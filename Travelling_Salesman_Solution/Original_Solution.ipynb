{
 "cells": [
  {
   "cell_type": "markdown",
   "metadata": {},
   "source": [
    "# Advanced Python for Data Science\n",
    "DS-GA-3001.001/.002\n",
    "\n",
    "Assignment 04\n",
    "Due date: 03/01/2019, 8:00AM"
   ]
  },
  {
   "cell_type": "markdown",
   "metadata": {},
   "source": [
    "# Problem 1\n",
    "\n",
    "The task is to optimize your solution by using \"line_profiler\". \n",
    "\n",
    "Your submission will contain two jupyter notebook files:\n",
    "- your first (original) solution hw04_yourid_original.ipynb (a solution that you originally wrote); \n",
    "- and a final, optimized, solution hw04_yourid_optimized.ipynb (an optimized solution by using line_profiler);  \n",
    "both of which will include the line_profiler results, and your short comments.\n",
    "\n",
    "\n",
    "The problem is to simulate the following dynamical scenario.\n",
    "\n",
    "There is a unit square $[0,1]^2$. The time is discrete $t=0,1,2,\\dots$. \n",
    "\n",
    "At every time stem there are $n$ points within the square; call these positions $\\{x_0,x_1,x_2,\\dots,x_{n-1}\\}$. At $t=0$ positions of the points are randomly and uniformly distributed.\n",
    "    \n",
    "At every time step $t \\geq 0$, we calculate $L(t)$ which corresponds to a path length that one would need to myopically traverse all $n$ points. In other words, $L(t)$ is calculated as follows:\n",
    "\n",
    "- Mark all points non-visited.   \n",
    "- Among all the $n$ points, choose uniformly one point, and mark it visited.  \n",
    "- Then iteratively traverse the non-visited points while visiting the closest point.  \n",
    "- Denote by $L(t)$ the distance of such a path. \n",
    "\n",
    "**Algorithmically it as:**\n",
    "\n",
    "- let path_length := 0\n",
    "- mark all the $n$ points non-visited;\n",
    "- pick one point, uniformly at random;\n",
    "- call it previous_point, and mark the previous_point visited;\n",
    "\n",
    "Then repeat $(n-1)$ times{\n",
    "1. pick the point among the non-visited points, which is the closest to the previous_point, and call it current_point; \n",
    "2. calculate the Euclidean distance between the current_point and the previous_point;\n",
    "2. increment path_length by that distance;\n",
    "3. mark the current_point as visited; \n",
    "4. re-label the current_point to be the previous point. \n",
    "}\n",
    "\n",
    "Your myopic path-lenght $L(t)$ := path_length. \n",
    "\n",
    "**Dynamics**\n",
    "\n",
    "Now, one would like to examine how a random perturbation of a fraction of the positions can change the value of $L(t)$ over time $t=0, 1, 2,\\dots$. That is, given an integer $T$, which corresponds to the number of iterations, \n",
    "$n$ the number of points, and $alpha$ which is fraction of points you perturb at new time step, your function will return and plot the values: $L(0), L(1),\\dots, L(T-1)$. \n",
    "\n",
    "To do so:\n",
    "\n",
    "Set t=0: \n",
    "- at time $t$, calculate $L(t)$; \n",
    "- at the next time step $t := t+1$, you pick uniformly $int(\\alpha \\cdot n)$ points which you will perturb;\n",
    "- assign these  $int(\\alpha \\cdot n)$ points random positions within the unit square;\n",
    "- calculate new $L(t)$;\n",
    "and repeat $T$ times. \n",
    "\n",
    "\n",
    "\n",
    "Your main function should look like:"
   ]
  },
  {
   "cell_type": "code",
   "execution_count": 5,
   "metadata": {},
   "outputs": [],
   "source": [
    "import numpy as np\n",
    "import matplotlib.pyplot as plt\n",
    "import random\n",
    "import math\n",
    "\n",
    "def minEucDistance(previous_point,positions): \n",
    "\n",
    "    distances = [math.sqrt((previous_point[0]-point[0])**2 + (previous_point[1] - point[1])**2) for point in positions]\n",
    "    dist_dict = dict(zip(positions,distances))\n",
    "    return min(dist_dict, key=dist_dict.get), dist_dict[min(dist_dict, key=dist_dict.get)]\n",
    "\n",
    "def returnPerturbations(perturb_no,positions):\n",
    "    new_positions = []\n",
    "    old_positions = []\n",
    "    for p in range(0,math.floor(perturb_no)):\n",
    "        while True:\n",
    "            old_pos = random.choice(positions)\n",
    "            px = np.random.uniform(size=1)\n",
    "            py = np.random.uniform(size=1)\n",
    "            if old_pos[0] + px <= 1 and old_pos[1] + py <= 1:\n",
    "                break\n",
    "        new_positions.append(((old_pos[0]+px)[0], (old_pos[1] + py)[0]))\n",
    "        old_positions.append(old_pos)\n",
    "    return new_positions, old_positions\n",
    "\n",
    "def main(n, alpha, T): \n",
    "    \"\"\" \n",
    "    n: there are n points in the unit square \n",
    "    alpha: alpha is the portion of points you redistribute at every time step \n",
    "    T: number of iterations\n",
    "    return: \n",
    "    length_array: list of caluclated values L(0), L(1),\\dots, L(T-1) \n",
    "    plot the diagram L(t) for t= 0, 1,...,T-1\n",
    "    \"\"\"\n",
    "    x = np.random.uniform(size=n)\n",
    "    y = np.random.uniform(size=n)\n",
    "    positions = list(zip(x,y))\n",
    "    length_array = []\n",
    "    position_status = dict((key, value) for (key, value) in zip(positions, [False]*(len(positions))))\n",
    "    starting_point = random.choice(positions)\n",
    "    positions.remove(starting_point)\n",
    "    position_status[starting_point] = True\n",
    "                    \n",
    "\n",
    "    for t in range(0,T):      \n",
    "        #perturbation of points\n",
    "        if t > 0: \n",
    "            positions = list(position_status.keys())\n",
    "            perturb_no = n*alpha\n",
    "            new_pos, old_pos = returnPerturbations(perturb_no, positions)\n",
    "            positions = [rp for rp in positions if rp not in old_pos]\n",
    "            positions.extend(new_pos)\n",
    "            position_status = {key: position_status[key] for key in list(position_status.keys()) if key not in old_pos}\n",
    "            \n",
    "        for p in range(0,n):\n",
    "            if len(positions) > 1: \n",
    "                path_length = 0\n",
    "                if p == 0:\n",
    "                    previous_point = starting_point\n",
    "    \n",
    "                #find shortest path through all points\n",
    "                current_point,increment = minEucDistance(previous_point,positions)\n",
    "                path_length += increment\n",
    "                positions.remove(current_point)\n",
    "                position_status[current_point] = True\n",
    "                previous_point = current_point\n",
    "                \n",
    "        length_array.append(path_length)\n",
    "    \n",
    "    plt.xlabel('Iteration (t)')\n",
    "    plt.ylabel('L(t)')\n",
    "    plt.title('Mypoic Distance Calculation')\n",
    "    plt.bar([i for i in range(0,T)],length_array)\n",
    "    plt.show()\n",
    "    \n",
    "    return length_array"
   ]
  },
  {
   "cell_type": "code",
   "execution_count": 6,
   "metadata": {},
   "outputs": [
    {
     "name": "stdout",
     "output_type": "stream",
     "text": [
      "The line_profiler extension is already loaded. To reload it, use:\n",
      "  %reload_ext line_profiler\n"
     ]
    },
    {
     "data": {
      "image/png": "[encoded data removed]",
      "text/plain": [
       "<Figure size 432x288 with 1 Axes>"
      ]
     },
     "metadata": {},
     "output_type": "display_data"
    }
   ],
   "source": [
    "%load_ext line_profiler\n",
    "%lprun -f main main(1000,.5,5)"
   ]
  },
  {
   "cell_type": "code",
   "execution_count": 7,
   "metadata": {},
   "outputs": [
    {
     "data": {
      "image/png": "[encoded data removed]",
      "text/plain": [
       "<Figure size 432x288 with 1 Axes>"
      ]
     },
     "metadata": {},
     "output_type": "display_data"
    }
   ],
   "source": [
    "%lprun -f main main(1000,0,5)"
   ]
  },
  {
   "cell_type": "markdown",
   "metadata": {},
   "source": [
    "# Short Comments"
   ]
  },
  {
   "cell_type": "markdown",
   "metadata": {},
   "source": [
    "This is my original solution. According to line profiler, the biggest bottleneck in my process is when my code is calculating the minimum euclidean distance from my current point. "
   ]
  },
  {
   "cell_type": "code",
   "execution_count": null,
   "metadata": {},
   "outputs": [],
   "source": []
  }
 ],
 "metadata": {
  "kernelspec": {
   "display_name": "Python 3",
   "language": "python",
   "name": "python3"
  },
  "language_info": {
   "codemirror_mode": {
    "name": "ipython",
    "version": 3
   },
   "file_extension": ".py",
   "mimetype": "text/x-python",
   "name": "python",
   "nbconvert_exporter": "python",
   "pygments_lexer": "ipython3",
   "version": "3.6.5"
  }
 },
 "nbformat": 4,
 "nbformat_minor": 2
}
