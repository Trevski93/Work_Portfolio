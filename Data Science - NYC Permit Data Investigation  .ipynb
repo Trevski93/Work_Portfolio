{
 "cells": [
  {
   "cell_type": "markdown",
   "metadata": {},
   "source": [
    "## Name: Trevor Mitchell"
   ]
  },
  {
   "cell_type": "markdown",
   "metadata": {},
   "source": [
    "DATA SCIENCE ASSIGNMENT\n",
    "\n",
    "The goal of this assignment is to demonstrate to us your ability to manage a real-world data set, to communicate and contextualize summary statistics, and, most importantly, your creativity and analytical rigor in generating and testing hypotheses. The assignment is intentionally nonspecific and exploratory in nature. \n",
    "\n",
    "The data set at hand captures permits issued by the New York City Department Of Buildings (DOB), and can be accessed here. We strongly encourage you to merge the NYC permit data with other data sets to contextualize your investigation. Mindful of the time we are giving you to complete this assignment, we recommend somewhat narrowly focusing your investigation. We're looking for a document that summarizes your investigation and findings."
   ]
  },
  {
   "cell_type": "markdown",
   "metadata": {},
   "source": [
    "## PROBLEM AND MOTIVATION"
   ]
  },
  {
   "cell_type": "markdown",
   "metadata": {},
   "source": [
    "Given the NYC permit data which captures the building permits issued by New York City Department Of Buildings (DOB), I was curious to see if the number of permits issued could be leveraged as a possible indicator of gentrification for a given zip code. To do so, I needed to add more context to this data set. I decided that joining the NYC Open evictions data set (https://data.cityofnewyork.us/City-Government/Evictions/6z8x-wfk4) would prove useful here. By joining the two data sources together by zip code and year, I would be able to see if there is a correlation between the number of building permits issued and the number of evictions notices issued. My null  hypothesis is that the number of building permits issued is not correlated to the number of eviction notices issued. My alternative hypothesis is that an increased number of building permits is positively correlated with the number of eviction notices issued. I am performing a one-tailed hypothesis test for this experiment, as I am mainly interested in seeing if there is a positive correlation between building permit issuances and eviction notice issuances, which may indicate gentrification in the grander scheme. "
   ]
  },
  {
   "cell_type": "code",
   "execution_count": 1,
   "metadata": {},
   "outputs": [],
   "source": [
    "import pandas as pd\n",
    "import matplotlib.pyplot as plt\n",
    "%matplotlib inline\n",
    "import matplotlib.pyplot as plt\n",
    "from scipy import stats"
   ]
  },
  {
   "cell_type": "code",
   "execution_count": 2,
   "metadata": {},
   "outputs": [
    {
     "name": "stderr",
     "output_type": "stream",
     "text": [
      "/anaconda3/lib/python3.6/site-packages/IPython/core/interactiveshell.py:2785: DtypeWarning: Columns (1,8,9,10,15,25,31,33,34,35,36,51,52) have mixed types. Specify dtype option on import or set low_memory=False.\n",
      "  interactivity=interactivity, compiler=compiler, result=result)\n"
     ]
    }
   ],
   "source": [
    "#CSV Data Files from NYC Open Data are loaded into pandas dataframes\n",
    "df_evictions = pd.read_csv('Evictions.csv')\n",
    "df_permits = pd.read_csv('DOB_Permit_Issuance.csv')"
   ]
  },
  {
   "cell_type": "markdown",
   "metadata": {},
   "source": [
    "## Data Cleaning"
   ]
  },
  {
   "cell_type": "markdown",
   "metadata": {},
   "source": [
    "Building Permits Data is cleaned and processed below. In this first step, only relevant columns are kept."
   ]
  },
  {
   "cell_type": "code",
   "execution_count": 3,
   "metadata": {},
   "outputs": [],
   "source": [
    "df_permits = df_permits[['BOROUGH', 'Job Type','Zip Code', 'Residential','Work Type','Expiration Date','Permit Status', 'Permit Type', 'Permit Subtype', 'Oil Gas']]"
   ]
  },
  {
   "cell_type": "markdown",
   "metadata": {},
   "source": [
    "In the cell below, data is filtered to only contain residential buildilng permits given the scope of my investigation. In addition, only records whose 'Permit Status' is 'ISSUED' and 'RE-ISSUED' are used. Records whose permit status are 'Revoked' or 'In Process' (meaning the permit has not been issued, but is in process) have been filtered out. Those types of records would not indicate building projects that have been completed."
   ]
  },
  {
   "cell_type": "code",
   "execution_count": 4,
   "metadata": {},
   "outputs": [],
   "source": [
    "df_permits = df_permits[(df_permits['Residential'] == 'YES') & (df_permits['Permit Status'].isin(['ISSUED','RE-ISSUED']))] #no 'IN PROCESS' "
   ]
  },
  {
   "cell_type": "markdown",
   "metadata": {},
   "source": [
    "In the following cell, I am using expiration date as the date that I will join to eviction notices. My reasoning being that projects should at a minimum be completed by the expiration date. This will give me a good date to compare to the date of when eviction notices are issued. This field is converted to datetime and filtered from January 1, 2017 to December 31, 2018. I am excluding 2019 as the year is not yet complete."
   ]
  },
  {
   "cell_type": "code",
   "execution_count": 5,
   "metadata": {},
   "outputs": [],
   "source": [
    "df_permits[\"Expiration Date\"] = pd.to_datetime(df_permits[\"Expiration Date\"])\n",
    "\n",
    "#filter out only dates starting from start date and ending with end date\n",
    "start, end = pd.to_datetime(['01JAN2017','31DEC2018'],format='%d%b%Y') \n",
    "df_permits = df_permits[(df_permits[\"Expiration Date\"] >= start) & (df_permits[\"Expiration Date\"] <= end)]"
   ]
  },
  {
   "cell_type": "markdown",
   "metadata": {},
   "source": [
    "Next, a new column called year is created from the expiration date column. This field only uses the year and will be joined to evictions data later on. The reason for only joining year being that it would allow me to analyze correlations between evictions and permits on an overall macro level."
   ]
  },
  {
   "cell_type": "code",
   "execution_count": 6,
   "metadata": {},
   "outputs": [],
   "source": [
    "df_permits['YEAR'] = df_permits['Expiration Date'].dt.year"
   ]
  },
  {
   "cell_type": "markdown",
   "metadata": {},
   "source": [
    "Below, is my data cleaning and processing process for the evictions data set. "
   ]
  },
  {
   "cell_type": "code",
   "execution_count": 7,
   "metadata": {},
   "outputs": [],
   "source": [
    "#Only relevant columns kept\n",
    "df_evictions = df_evictions[['EXECUTED_DATE','RESIDENTIAL_COMMERCIAL_IND','BOROUGH','EVICTION_ZIP']]"
   ]
  },
  {
   "cell_type": "code",
   "execution_count": 8,
   "metadata": {},
   "outputs": [],
   "source": [
    "#Only residential evictions will be looked at\n",
    "df_evictions = df_evictions[df_evictions['RESIDENTIAL_COMMERCIAL_IND'] == 'Residential']"
   ]
  },
  {
   "cell_type": "code",
   "execution_count": 9,
   "metadata": {},
   "outputs": [],
   "source": [
    "#convert Exection notice executed date to datetime\n",
    "df_evictions['EXECUTED_DATE'] = pd.to_datetime(df_evictions['EXECUTED_DATE'])"
   ]
  },
  {
   "cell_type": "code",
   "execution_count": 10,
   "metadata": {},
   "outputs": [],
   "source": [
    "#Use of only year to analyze correlations between evictions and permits on an overall macro level\n",
    "df_evictions['YEAR'] = df_evictions['EXECUTED_DATE'].dt.year"
   ]
  },
  {
   "cell_type": "markdown",
   "metadata": {},
   "source": [
    "## Data Aggregation "
   ]
  },
  {
   "cell_type": "markdown",
   "metadata": {},
   "source": [
    "Evictions data is grouped by zip code and year since this is what I will be joining by between the evictions and building permits data sets. The counts as the result of the group by operation are then created for each zip/year combination. As a result, I have a resulting dataframe that has the number of evictions for the respective zip code in a given year."
   ]
  },
  {
   "cell_type": "code",
   "execution_count": 11,
   "metadata": {},
   "outputs": [],
   "source": [
    "gb_ev = df_evictions.groupby(['EVICTION_ZIP','YEAR'])\n",
    "evictions = gb_ev.size().reset_index(name='Eviction Counts')"
   ]
  },
  {
   "cell_type": "markdown",
   "metadata": {},
   "source": [
    "Building permit data is grouped by zip code and year since this is what I will be joining by between the evictions and building permits data sets. The counts as the result of the group by operation are then created for each zip/year combination. As a result, I have a resulting dataframe that has the number of building permits for the respective zip code in a given year."
   ]
  },
  {
   "cell_type": "code",
   "execution_count": 12,
   "metadata": {},
   "outputs": [],
   "source": [
    "gb_permits = df_permits.groupby(['Zip Code','YEAR'])\n",
    "permits = gb_permits.size().reset_index(name='Permit Counts')"
   ]
  },
  {
   "cell_type": "markdown",
   "metadata": {},
   "source": [
    "The evictions and building permit datasets are finally joined together based on zip code and year. "
   ]
  },
  {
   "cell_type": "code",
   "execution_count": 13,
   "metadata": {},
   "outputs": [],
   "source": [
    "df_permit_evict = pd.merge(permits, evictions, how = 'inner', left_on =['Zip Code','YEAR'], right_on = ['EVICTION_ZIP','YEAR'])"
   ]
  },
  {
   "cell_type": "markdown",
   "metadata": {},
   "source": [
    "## Resulting Dataset"
   ]
  },
  {
   "cell_type": "code",
   "execution_count": 14,
   "metadata": {},
   "outputs": [
    {
     "data": {
      "text/html": [
       "<div>\n",
       "<style scoped>\n",
       "    .dataframe tbody tr th:only-of-type {\n",
       "        vertical-align: middle;\n",
       "    }\n",
       "\n",
       "    .dataframe tbody tr th {\n",
       "        vertical-align: top;\n",
       "    }\n",
       "\n",
       "    .dataframe thead th {\n",
       "        text-align: right;\n",
       "    }\n",
       "</style>\n",
       "<table border=\"1\" class=\"dataframe\">\n",
       "  <thead>\n",
       "    <tr style=\"text-align: right;\">\n",
       "      <th></th>\n",
       "      <th>Zip Code</th>\n",
       "      <th>YEAR</th>\n",
       "      <th>Permit Counts</th>\n",
       "      <th>EVICTION_ZIP</th>\n",
       "      <th>Eviction Counts</th>\n",
       "    </tr>\n",
       "  </thead>\n",
       "  <tbody>\n",
       "    <tr>\n",
       "      <th>0</th>\n",
       "      <td>0.0</td>\n",
       "      <td>2018</td>\n",
       "      <td>22</td>\n",
       "      <td>0</td>\n",
       "      <td>3</td>\n",
       "    </tr>\n",
       "    <tr>\n",
       "      <th>1</th>\n",
       "      <td>10001.0</td>\n",
       "      <td>2017</td>\n",
       "      <td>801</td>\n",
       "      <td>10001</td>\n",
       "      <td>46</td>\n",
       "    </tr>\n",
       "    <tr>\n",
       "      <th>2</th>\n",
       "      <td>10001.0</td>\n",
       "      <td>2018</td>\n",
       "      <td>754</td>\n",
       "      <td>10001</td>\n",
       "      <td>58</td>\n",
       "    </tr>\n",
       "    <tr>\n",
       "      <th>3</th>\n",
       "      <td>10002.0</td>\n",
       "      <td>2017</td>\n",
       "      <td>1285</td>\n",
       "      <td>10002</td>\n",
       "      <td>77</td>\n",
       "    </tr>\n",
       "    <tr>\n",
       "      <th>4</th>\n",
       "      <td>10002.0</td>\n",
       "      <td>2018</td>\n",
       "      <td>1284</td>\n",
       "      <td>10002</td>\n",
       "      <td>90</td>\n",
       "    </tr>\n",
       "    <tr>\n",
       "      <th>5</th>\n",
       "      <td>10003.0</td>\n",
       "      <td>2017</td>\n",
       "      <td>1806</td>\n",
       "      <td>10003</td>\n",
       "      <td>42</td>\n",
       "    </tr>\n",
       "    <tr>\n",
       "      <th>6</th>\n",
       "      <td>10003.0</td>\n",
       "      <td>2018</td>\n",
       "      <td>1733</td>\n",
       "      <td>10003</td>\n",
       "      <td>28</td>\n",
       "    </tr>\n",
       "    <tr>\n",
       "      <th>7</th>\n",
       "      <td>10004.0</td>\n",
       "      <td>2017</td>\n",
       "      <td>55</td>\n",
       "      <td>10004</td>\n",
       "      <td>3</td>\n",
       "    </tr>\n",
       "    <tr>\n",
       "      <th>8</th>\n",
       "      <td>10004.0</td>\n",
       "      <td>2018</td>\n",
       "      <td>92</td>\n",
       "      <td>10004</td>\n",
       "      <td>4</td>\n",
       "    </tr>\n",
       "    <tr>\n",
       "      <th>9</th>\n",
       "      <td>10005.0</td>\n",
       "      <td>2017</td>\n",
       "      <td>107</td>\n",
       "      <td>10005</td>\n",
       "      <td>14</td>\n",
       "    </tr>\n",
       "    <tr>\n",
       "      <th>10</th>\n",
       "      <td>10005.0</td>\n",
       "      <td>2018</td>\n",
       "      <td>209</td>\n",
       "      <td>10005</td>\n",
       "      <td>13</td>\n",
       "    </tr>\n",
       "    <tr>\n",
       "      <th>11</th>\n",
       "      <td>10006.0</td>\n",
       "      <td>2017</td>\n",
       "      <td>109</td>\n",
       "      <td>10006</td>\n",
       "      <td>7</td>\n",
       "    </tr>\n",
       "    <tr>\n",
       "      <th>12</th>\n",
       "      <td>10006.0</td>\n",
       "      <td>2018</td>\n",
       "      <td>90</td>\n",
       "      <td>10006</td>\n",
       "      <td>2</td>\n",
       "    </tr>\n",
       "    <tr>\n",
       "      <th>13</th>\n",
       "      <td>10007.0</td>\n",
       "      <td>2017</td>\n",
       "      <td>329</td>\n",
       "      <td>10007</td>\n",
       "      <td>5</td>\n",
       "    </tr>\n",
       "    <tr>\n",
       "      <th>14</th>\n",
       "      <td>10007.0</td>\n",
       "      <td>2018</td>\n",
       "      <td>304</td>\n",
       "      <td>10007</td>\n",
       "      <td>3</td>\n",
       "    </tr>\n",
       "    <tr>\n",
       "      <th>15</th>\n",
       "      <td>10009.0</td>\n",
       "      <td>2017</td>\n",
       "      <td>983</td>\n",
       "      <td>10009</td>\n",
       "      <td>102</td>\n",
       "    </tr>\n",
       "    <tr>\n",
       "      <th>16</th>\n",
       "      <td>10009.0</td>\n",
       "      <td>2018</td>\n",
       "      <td>1049</td>\n",
       "      <td>10009</td>\n",
       "      <td>89</td>\n",
       "    </tr>\n",
       "    <tr>\n",
       "      <th>17</th>\n",
       "      <td>10010.0</td>\n",
       "      <td>2017</td>\n",
       "      <td>845</td>\n",
       "      <td>10010</td>\n",
       "      <td>23</td>\n",
       "    </tr>\n",
       "    <tr>\n",
       "      <th>18</th>\n",
       "      <td>10010.0</td>\n",
       "      <td>2018</td>\n",
       "      <td>747</td>\n",
       "      <td>10010</td>\n",
       "      <td>20</td>\n",
       "    </tr>\n",
       "    <tr>\n",
       "      <th>19</th>\n",
       "      <td>10011.0</td>\n",
       "      <td>2017</td>\n",
       "      <td>1865</td>\n",
       "      <td>10011</td>\n",
       "      <td>43</td>\n",
       "    </tr>\n",
       "    <tr>\n",
       "      <th>20</th>\n",
       "      <td>10011.0</td>\n",
       "      <td>2018</td>\n",
       "      <td>1838</td>\n",
       "      <td>10011</td>\n",
       "      <td>34</td>\n",
       "    </tr>\n",
       "    <tr>\n",
       "      <th>21</th>\n",
       "      <td>10012.0</td>\n",
       "      <td>2017</td>\n",
       "      <td>1332</td>\n",
       "      <td>10012</td>\n",
       "      <td>25</td>\n",
       "    </tr>\n",
       "    <tr>\n",
       "      <th>22</th>\n",
       "      <td>10012.0</td>\n",
       "      <td>2018</td>\n",
       "      <td>1214</td>\n",
       "      <td>10012</td>\n",
       "      <td>30</td>\n",
       "    </tr>\n",
       "    <tr>\n",
       "      <th>23</th>\n",
       "      <td>10013.0</td>\n",
       "      <td>2017</td>\n",
       "      <td>1529</td>\n",
       "      <td>10013</td>\n",
       "      <td>24</td>\n",
       "    </tr>\n",
       "    <tr>\n",
       "      <th>24</th>\n",
       "      <td>10013.0</td>\n",
       "      <td>2018</td>\n",
       "      <td>1406</td>\n",
       "      <td>10013</td>\n",
       "      <td>20</td>\n",
       "    </tr>\n",
       "    <tr>\n",
       "      <th>25</th>\n",
       "      <td>10014.0</td>\n",
       "      <td>2017</td>\n",
       "      <td>1560</td>\n",
       "      <td>10014</td>\n",
       "      <td>29</td>\n",
       "    </tr>\n",
       "    <tr>\n",
       "      <th>26</th>\n",
       "      <td>10014.0</td>\n",
       "      <td>2018</td>\n",
       "      <td>1663</td>\n",
       "      <td>10014</td>\n",
       "      <td>27</td>\n",
       "    </tr>\n",
       "    <tr>\n",
       "      <th>27</th>\n",
       "      <td>10016.0</td>\n",
       "      <td>2017</td>\n",
       "      <td>1242</td>\n",
       "      <td>10016</td>\n",
       "      <td>54</td>\n",
       "    </tr>\n",
       "    <tr>\n",
       "      <th>28</th>\n",
       "      <td>10016.0</td>\n",
       "      <td>2018</td>\n",
       "      <td>1197</td>\n",
       "      <td>10016</td>\n",
       "      <td>48</td>\n",
       "    </tr>\n",
       "    <tr>\n",
       "      <th>29</th>\n",
       "      <td>10017.0</td>\n",
       "      <td>2017</td>\n",
       "      <td>312</td>\n",
       "      <td>10017</td>\n",
       "      <td>23</td>\n",
       "    </tr>\n",
       "    <tr>\n",
       "      <th>...</th>\n",
       "      <td>...</td>\n",
       "      <td>...</td>\n",
       "      <td>...</td>\n",
       "      <td>...</td>\n",
       "      <td>...</td>\n",
       "    </tr>\n",
       "    <tr>\n",
       "      <th>328</th>\n",
       "      <td>11422.0</td>\n",
       "      <td>2017</td>\n",
       "      <td>288</td>\n",
       "      <td>11422</td>\n",
       "      <td>75</td>\n",
       "    </tr>\n",
       "    <tr>\n",
       "      <th>329</th>\n",
       "      <td>11422.0</td>\n",
       "      <td>2018</td>\n",
       "      <td>353</td>\n",
       "      <td>11422</td>\n",
       "      <td>75</td>\n",
       "    </tr>\n",
       "    <tr>\n",
       "      <th>330</th>\n",
       "      <td>11423.0</td>\n",
       "      <td>2017</td>\n",
       "      <td>283</td>\n",
       "      <td>11423</td>\n",
       "      <td>79</td>\n",
       "    </tr>\n",
       "    <tr>\n",
       "      <th>331</th>\n",
       "      <td>11423.0</td>\n",
       "      <td>2018</td>\n",
       "      <td>356</td>\n",
       "      <td>11423</td>\n",
       "      <td>103</td>\n",
       "    </tr>\n",
       "    <tr>\n",
       "      <th>332</th>\n",
       "      <td>11426.0</td>\n",
       "      <td>2017</td>\n",
       "      <td>240</td>\n",
       "      <td>11426</td>\n",
       "      <td>12</td>\n",
       "    </tr>\n",
       "    <tr>\n",
       "      <th>333</th>\n",
       "      <td>11426.0</td>\n",
       "      <td>2018</td>\n",
       "      <td>221</td>\n",
       "      <td>11426</td>\n",
       "      <td>16</td>\n",
       "    </tr>\n",
       "    <tr>\n",
       "      <th>334</th>\n",
       "      <td>11427.0</td>\n",
       "      <td>2017</td>\n",
       "      <td>239</td>\n",
       "      <td>11427</td>\n",
       "      <td>40</td>\n",
       "    </tr>\n",
       "    <tr>\n",
       "      <th>335</th>\n",
       "      <td>11427.0</td>\n",
       "      <td>2018</td>\n",
       "      <td>246</td>\n",
       "      <td>11427</td>\n",
       "      <td>32</td>\n",
       "    </tr>\n",
       "    <tr>\n",
       "      <th>336</th>\n",
       "      <td>11428.0</td>\n",
       "      <td>2017</td>\n",
       "      <td>141</td>\n",
       "      <td>11428</td>\n",
       "      <td>42</td>\n",
       "    </tr>\n",
       "    <tr>\n",
       "      <th>337</th>\n",
       "      <td>11428.0</td>\n",
       "      <td>2018</td>\n",
       "      <td>164</td>\n",
       "      <td>11428</td>\n",
       "      <td>28</td>\n",
       "    </tr>\n",
       "    <tr>\n",
       "      <th>338</th>\n",
       "      <td>11429.0</td>\n",
       "      <td>2017</td>\n",
       "      <td>191</td>\n",
       "      <td>11429</td>\n",
       "      <td>55</td>\n",
       "    </tr>\n",
       "    <tr>\n",
       "      <th>339</th>\n",
       "      <td>11429.0</td>\n",
       "      <td>2018</td>\n",
       "      <td>225</td>\n",
       "      <td>11429</td>\n",
       "      <td>70</td>\n",
       "    </tr>\n",
       "    <tr>\n",
       "      <th>340</th>\n",
       "      <td>11432.0</td>\n",
       "      <td>2017</td>\n",
       "      <td>667</td>\n",
       "      <td>11432</td>\n",
       "      <td>171</td>\n",
       "    </tr>\n",
       "    <tr>\n",
       "      <th>341</th>\n",
       "      <td>11432.0</td>\n",
       "      <td>2018</td>\n",
       "      <td>733</td>\n",
       "      <td>11432</td>\n",
       "      <td>161</td>\n",
       "    </tr>\n",
       "    <tr>\n",
       "      <th>342</th>\n",
       "      <td>11433.0</td>\n",
       "      <td>2017</td>\n",
       "      <td>298</td>\n",
       "      <td>11433</td>\n",
       "      <td>158</td>\n",
       "    </tr>\n",
       "    <tr>\n",
       "      <th>343</th>\n",
       "      <td>11433.0</td>\n",
       "      <td>2018</td>\n",
       "      <td>351</td>\n",
       "      <td>11433</td>\n",
       "      <td>146</td>\n",
       "    </tr>\n",
       "    <tr>\n",
       "      <th>344</th>\n",
       "      <td>11434.0</td>\n",
       "      <td>2017</td>\n",
       "      <td>555</td>\n",
       "      <td>11434</td>\n",
       "      <td>159</td>\n",
       "    </tr>\n",
       "    <tr>\n",
       "      <th>345</th>\n",
       "      <td>11434.0</td>\n",
       "      <td>2018</td>\n",
       "      <td>600</td>\n",
       "      <td>11434</td>\n",
       "      <td>218</td>\n",
       "    </tr>\n",
       "    <tr>\n",
       "      <th>346</th>\n",
       "      <td>11435.0</td>\n",
       "      <td>2017</td>\n",
       "      <td>473</td>\n",
       "      <td>11435</td>\n",
       "      <td>155</td>\n",
       "    </tr>\n",
       "    <tr>\n",
       "      <th>347</th>\n",
       "      <td>11435.0</td>\n",
       "      <td>2018</td>\n",
       "      <td>495</td>\n",
       "      <td>11435</td>\n",
       "      <td>148</td>\n",
       "    </tr>\n",
       "    <tr>\n",
       "      <th>348</th>\n",
       "      <td>11436.0</td>\n",
       "      <td>2017</td>\n",
       "      <td>223</td>\n",
       "      <td>11436</td>\n",
       "      <td>45</td>\n",
       "    </tr>\n",
       "    <tr>\n",
       "      <th>349</th>\n",
       "      <td>11436.0</td>\n",
       "      <td>2018</td>\n",
       "      <td>263</td>\n",
       "      <td>11436</td>\n",
       "      <td>58</td>\n",
       "    </tr>\n",
       "    <tr>\n",
       "      <th>350</th>\n",
       "      <td>11691.0</td>\n",
       "      <td>2017</td>\n",
       "      <td>714</td>\n",
       "      <td>11691</td>\n",
       "      <td>289</td>\n",
       "    </tr>\n",
       "    <tr>\n",
       "      <th>351</th>\n",
       "      <td>11691.0</td>\n",
       "      <td>2018</td>\n",
       "      <td>851</td>\n",
       "      <td>11691</td>\n",
       "      <td>266</td>\n",
       "    </tr>\n",
       "    <tr>\n",
       "      <th>352</th>\n",
       "      <td>11692.0</td>\n",
       "      <td>2017</td>\n",
       "      <td>521</td>\n",
       "      <td>11692</td>\n",
       "      <td>120</td>\n",
       "    </tr>\n",
       "    <tr>\n",
       "      <th>353</th>\n",
       "      <td>11692.0</td>\n",
       "      <td>2018</td>\n",
       "      <td>696</td>\n",
       "      <td>11692</td>\n",
       "      <td>117</td>\n",
       "    </tr>\n",
       "    <tr>\n",
       "      <th>354</th>\n",
       "      <td>11693.0</td>\n",
       "      <td>2017</td>\n",
       "      <td>568</td>\n",
       "      <td>11693</td>\n",
       "      <td>33</td>\n",
       "    </tr>\n",
       "    <tr>\n",
       "      <th>355</th>\n",
       "      <td>11693.0</td>\n",
       "      <td>2018</td>\n",
       "      <td>870</td>\n",
       "      <td>11693</td>\n",
       "      <td>37</td>\n",
       "    </tr>\n",
       "    <tr>\n",
       "      <th>356</th>\n",
       "      <td>11694.0</td>\n",
       "      <td>2017</td>\n",
       "      <td>310</td>\n",
       "      <td>11694</td>\n",
       "      <td>53</td>\n",
       "    </tr>\n",
       "    <tr>\n",
       "      <th>357</th>\n",
       "      <td>11694.0</td>\n",
       "      <td>2018</td>\n",
       "      <td>366</td>\n",
       "      <td>11694</td>\n",
       "      <td>41</td>\n",
       "    </tr>\n",
       "  </tbody>\n",
       "</table>\n",
       "<p>358 rows × 5 columns</p>\n",
       "</div>"
      ],
      "text/plain": [
       "     Zip Code  YEAR  Permit Counts  EVICTION_ZIP  Eviction Counts\n",
       "0         0.0  2018             22             0                3\n",
       "1     10001.0  2017            801         10001               46\n",
       "2     10001.0  2018            754         10001               58\n",
       "3     10002.0  2017           1285         10002               77\n",
       "4     10002.0  2018           1284         10002               90\n",
       "5     10003.0  2017           1806         10003               42\n",
       "6     10003.0  2018           1733         10003               28\n",
       "7     10004.0  2017             55         10004                3\n",
       "8     10004.0  2018             92         10004                4\n",
       "9     10005.0  2017            107         10005               14\n",
       "10    10005.0  2018            209         10005               13\n",
       "11    10006.0  2017            109         10006                7\n",
       "12    10006.0  2018             90         10006                2\n",
       "13    10007.0  2017            329         10007                5\n",
       "14    10007.0  2018            304         10007                3\n",
       "15    10009.0  2017            983         10009              102\n",
       "16    10009.0  2018           1049         10009               89\n",
       "17    10010.0  2017            845         10010               23\n",
       "18    10010.0  2018            747         10010               20\n",
       "19    10011.0  2017           1865         10011               43\n",
       "20    10011.0  2018           1838         10011               34\n",
       "21    10012.0  2017           1332         10012               25\n",
       "22    10012.0  2018           1214         10012               30\n",
       "23    10013.0  2017           1529         10013               24\n",
       "24    10013.0  2018           1406         10013               20\n",
       "25    10014.0  2017           1560         10014               29\n",
       "26    10014.0  2018           1663         10014               27\n",
       "27    10016.0  2017           1242         10016               54\n",
       "28    10016.0  2018           1197         10016               48\n",
       "29    10017.0  2017            312         10017               23\n",
       "..        ...   ...            ...           ...              ...\n",
       "328   11422.0  2017            288         11422               75\n",
       "329   11422.0  2018            353         11422               75\n",
       "330   11423.0  2017            283         11423               79\n",
       "331   11423.0  2018            356         11423              103\n",
       "332   11426.0  2017            240         11426               12\n",
       "333   11426.0  2018            221         11426               16\n",
       "334   11427.0  2017            239         11427               40\n",
       "335   11427.0  2018            246         11427               32\n",
       "336   11428.0  2017            141         11428               42\n",
       "337   11428.0  2018            164         11428               28\n",
       "338   11429.0  2017            191         11429               55\n",
       "339   11429.0  2018            225         11429               70\n",
       "340   11432.0  2017            667         11432              171\n",
       "341   11432.0  2018            733         11432              161\n",
       "342   11433.0  2017            298         11433              158\n",
       "343   11433.0  2018            351         11433              146\n",
       "344   11434.0  2017            555         11434              159\n",
       "345   11434.0  2018            600         11434              218\n",
       "346   11435.0  2017            473         11435              155\n",
       "347   11435.0  2018            495         11435              148\n",
       "348   11436.0  2017            223         11436               45\n",
       "349   11436.0  2018            263         11436               58\n",
       "350   11691.0  2017            714         11691              289\n",
       "351   11691.0  2018            851         11691              266\n",
       "352   11692.0  2017            521         11692              120\n",
       "353   11692.0  2018            696         11692              117\n",
       "354   11693.0  2017            568         11693               33\n",
       "355   11693.0  2018            870         11693               37\n",
       "356   11694.0  2017            310         11694               53\n",
       "357   11694.0  2018            366         11694               41\n",
       "\n",
       "[358 rows x 5 columns]"
      ]
     },
     "execution_count": 14,
     "metadata": {},
     "output_type": "execute_result"
    }
   ],
   "source": [
    "df_permit_evict"
   ]
  },
  {
   "cell_type": "markdown",
   "metadata": {},
   "source": [
    "## Results"
   ]
  },
  {
   "cell_type": "markdown",
   "metadata": {},
   "source": [
    "Data is filtered out by their respective year."
   ]
  },
  {
   "cell_type": "code",
   "execution_count": 15,
   "metadata": {},
   "outputs": [],
   "source": [
    "df_2017 = df_permit_evict[df_permit_evict['YEAR'] == 2017]\n",
    "df_2018 = df_permit_evict[df_permit_evict['YEAR'] == 2018]"
   ]
  },
  {
   "cell_type": "code",
   "execution_count": 16,
   "metadata": {},
   "outputs": [
    {
     "name": "stderr",
     "output_type": "stream",
     "text": [
      "No handles with labels found to put in legend.\n"
     ]
    },
    {
     "data": {
      "text/plain": [
       "Text(0.5,1,'2017 Correlation Between Building Permits & Eviction')"
      ]
     },
     "execution_count": 16,
     "metadata": {},
     "output_type": "execute_result"
    },
    {
     "data": {
      "image/png": "[encoded data removed]",
      "text/plain": [
       "<Figure size 432x288 with 1 Axes>"
      ]
     },
     "metadata": {},
     "output_type": "display_data"
    }
   ],
   "source": [
    "plt.plot(df_2017['Permit Counts'].values,df_2017['Eviction Counts'].values,'*')\n",
    "plt.legend()\n",
    "plt.ylabel('Number of Evictions')\n",
    "plt.xlabel('Building Permits Issued')\n",
    "plt.title('2017 Correlation Between Building Permits & Eviction')"
   ]
  },
  {
   "cell_type": "code",
   "execution_count": 17,
   "metadata": {},
   "outputs": [
    {
     "name": "stderr",
     "output_type": "stream",
     "text": [
      "No handles with labels found to put in legend.\n"
     ]
    },
    {
     "data": {
      "text/plain": [
       "Text(0.5,1,'2018 Correlation Between Building Permits & Eviction')"
      ]
     },
     "execution_count": 17,
     "metadata": {},
     "output_type": "execute_result"
    },
    {
     "data": {
      "image/png": "[encoded data removed]",
      "text/plain": [
       "<Figure size 432x288 with 1 Axes>"
      ]
     },
     "metadata": {},
     "output_type": "display_data"
    }
   ],
   "source": [
    "plt.plot(df_2018['Permit Counts'].values,df_2018['Eviction Counts'].values,'*')\n",
    "plt.legend()\n",
    "plt.ylabel('Number of Evictions')\n",
    "plt.xlabel('Building Permits Issued')\n",
    "plt.title('2018 Correlation Between Building Permits & Eviction')"
   ]
  },
  {
   "cell_type": "markdown",
   "metadata": {},
   "source": [
    "As you can see based upon the visualizations above, there does not appear to be a very strong correlation between the number of building permits that have been issued and eviction notices issued."
   ]
  },
  {
   "cell_type": "markdown",
   "metadata": {},
   "source": [
    "## Conclusion of Findings"
   ]
  },
  {
   "cell_type": "code",
   "execution_count": 18,
   "metadata": {},
   "outputs": [
    {
     "data": {
      "text/plain": [
       "0.4195435580919319"
      ]
     },
     "execution_count": 18,
     "metadata": {},
     "output_type": "execute_result"
    }
   ],
   "source": [
    "p_value = (stats.linregress(df_2017['Permit Counts'].values,df_2017['Eviction Counts'].values).pvalue)/2\n",
    "p_value"
   ]
  },
  {
   "cell_type": "markdown",
   "metadata": {},
   "source": [
    "$$H_o : p=0$$\n",
    "$$H_a : p>0$$ \n",
    "$$\\alpha = .05$$ \n",
    "$$\\text{p_value = 0.4195435580919319}$$\n",
    "$$\\text{The p-value for a one-tailed test is greater than the value for } \\alpha$$\n",
    "$$\\text{Because the p-value is greater than } \\alpha \\text{, it suggests that there is not enough evidence to reject } H_o \\text{ and the result is statistically nonsignificant}$$"
   ]
  },
  {
   "cell_type": "code",
   "execution_count": 19,
   "metadata": {},
   "outputs": [
    {
     "data": {
      "text/plain": [
       "0.4195103003118487"
      ]
     },
     "execution_count": 19,
     "metadata": {},
     "output_type": "execute_result"
    }
   ],
   "source": [
    "p_value = (stats.linregress(df_2018['Permit Counts'].values,df_2018['Eviction Counts'].values).pvalue)/2\n",
    "p_value"
   ]
  },
  {
   "cell_type": "markdown",
   "metadata": {},
   "source": [
    "$$H_o : p=0$$\n",
    "$$H_a : p>0$$ \n",
    "$$\\alpha = .05$$ \n",
    "$$\\text{p_value = 0.4195103003118487}$$\n",
    "$$\\text{The p-value for a one-tailed test is greater than the value for } \\alpha$$\n",
    "$$\\text{Because the p-value is greater than } \\alpha \\text{, it suggests that there is not enough evidence to reject } H_o \\text{ and the result is statistically nonsignificant}$$"
   ]
  },
  {
   "cell_type": "markdown",
   "metadata": {},
   "source": [
    "To conclude, using both 2017 and 2018 data, I cannot reject the null hypothesis that there is no correlation between the number of building permits issued and the number of eviction notices issued. In this experiment, I used a simple linear model, because I am assuming a lot of normality in the data distribution. Otherwise, it would have been more appropriate to perform a non-parametric test."
   ]
  },
  {
   "cell_type": "markdown",
   "metadata": {},
   "source": [
    "## Potential Future Work \n",
    "\n",
    "One potential way to delve further into this experiment in the future would be to analyze all of the job type and work types in the building permits dataset. Choosing specifc values of these categories to perform the same experiment on may yield stronger correlations with the number of eviction notices issued. It is possible that some categories simply have no correlation and are skewing the linear model by creating \"noise\". An example of this would be perhaps the job type \"A2\" which is \"an application with multiple types of work that do not affect the use, egress, or occupancy of the building\" is much more strongly correlated with eviction notices issued than say \"DM\" which is for demolition."
   ]
  },
  {
   "cell_type": "code",
   "execution_count": null,
   "metadata": {},
   "outputs": [],
   "source": []
  }
 ],
 "metadata": {
  "kernelspec": {
   "display_name": "Python 3",
   "language": "python",
   "name": "python3"
  },
  "language_info": {
   "codemirror_mode": {
    "name": "ipython",
    "version": 3
   },
   "file_extension": ".py",
   "mimetype": "text/x-python",
   "name": "python",
   "nbconvert_exporter": "python",
   "pygments_lexer": "ipython3",
   "version": "3.6.5"
  }
 },
 "nbformat": 4,
 "nbformat_minor": 2
}
