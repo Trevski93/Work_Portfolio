{
 "cells": [
  {
   "cell_type": "markdown",
   "metadata": {},
   "source": [
    "# Introduction to Data Science\n",
    "## Homework 5"
   ]
  },
  {
   "cell_type": "markdown",
   "metadata": {},
   "source": [
    "Student Name: Trevor Mitchell\n",
    "\n",
    "Student Netid: tim225\n",
    "***"
   ]
  },
  {
   "cell_type": "markdown",
   "metadata": {},
   "source": [
    "### Part 1: Naive Bayes (5 Points)"
   ]
  },
  {
   "cell_type": "markdown",
   "metadata": {},
   "source": [
    "1\\. From your reading you know that the naive Bayes classifier works by calculating the conditional probabilities of each feature, $e_i$, occuring with each class $c$ and treating them independently. This results in the probability of a certain class occuring given a set of features, or a piece of evidence, $E$, as\n",
    "\n",
    "$$P(c \\mid E) = \\frac{p(e_1 \\mid c) \\cdot p(e_2 \\mid c) \\cdot \\cdot \\cdot p(e_k \\mid c) \\cdot p(c)}{p(E)}.$$\n",
    "\n",
    "The conditional probability of each piece of evidence occuring with a given class is given by\n",
    "\n",
    "$$P(e_i \\mid c) = \\frac{\\text{count}(e_i, c)}{\\text{count}(c)}.$$\n",
    "\n",
    "In the above equation $\\text{count}(e_i, c)$ is the number of documents in a given class that contain feature $e_i$ and $\\text{count}(c)$ is the number of documents that belong to class $c$. \n",
    "\n",
    "A common variation of the above is to use Laplace (sometimes called +1) smoothing. Recall the use of Laplace smoothing introduced toward the end of Chapter 3 in the section Probability Estimation. This is done in sklearn by setting `alpha=1` in the `BernoulliNB()` function (this is also the default behavior). The result of Laplace smoothing will slightly change the conditional probabilities,\n",
    "\n",
    "$$P(e_i \\mid c) = \\frac{\\text{count}(e_i, c) + 1}{\\text{count}(c) + 2}.$$\n",
    "\n",
    "In no more than **one paragraph**, describe why this is useful, and use the bias-variance tradeoff to justify its use. Try to think of a case when not using Laplace smoothing would result in \"bad\" models. Try to give an example. Be precise."
   ]
  },
  {
   "cell_type": "markdown",
   "metadata": {},
   "source": [
    "Answer here!\n",
    "\n",
    "Laplace smoothing is useful when it comes to the naive Bayes classifier, because if there are only a a few instances (documents) that are being used to calculate the probability that each piece of evidence (feature) occuring within a given class, these few instances could be extremes and skew from a more accurate probability estimate of the true data set. Laplace smoothing essentially is a regularization method that reduces sensitivities to these outliers that could skew probability results. It also adjusts probabilities for scenarios where it is zero. This would prevent a feature that perhaps was not seen in this specific sample, but is present in the greater data set from having zero probability. While a model built without Laplace smoothing will work well on the training set, it will not perform well on the testing set because the data sampled is not an accurate representation of the data distribution at large. Laplace smoothing reduces overfitting which essentially increases bias because the model will not fit as close to the training data. However, at the same time it will reduce variance since the model is now more general. Hence, why outliers won't effect probabilities as strongly."
   ]
  },
  {
   "cell_type": "markdown",
   "metadata": {},
   "source": [
    "### Part 2: Text classification for sentiment analysis (20 Points)\n",
    "For this part of the assignment, we are going to use a data set of movie ratings from IMDB.com. The data consists of the text of a movie review and a target variable which tells us whether the reviewer had a positive feeling towards the movie (equivalent to rating the movie between 7 and 10) or a negative feeling (rating the movie between 1 and 4). Neutral reactions are not included in the data.\n",
    "\n",
    "The data are located in \"`data/imdb.csv`\". The first column is the review text; the second is the text label 'P' for positive or 'N' for negative."
   ]
  },
  {
   "cell_type": "markdown",
   "metadata": {},
   "source": [
    "1 (1 Point) \\. Load the data into a pandas `DataFrame()`."
   ]
  },
  {
   "cell_type": "code",
   "execution_count": 2,
   "metadata": {
    "scrolled": true
   },
   "outputs": [],
   "source": [
    "import pandas as pd\n",
    "data = pd.read_csv('imdb.csv')"
   ]
  },
  {
   "cell_type": "markdown",
   "metadata": {},
   "source": [
    "2 (1 Point)\\. Code the target variable to be numeric: use the value `1` to represent 'P' and `0` to represent 'N'."
   ]
  },
  {
   "cell_type": "code",
   "execution_count": 3,
   "metadata": {},
   "outputs": [],
   "source": [
    "# Code here\n",
    "data['Class'].loc[data['Class'] == 'N'] = 0\n",
    "data['Class'].loc[data['Class'] == 'P'] = 1\n",
    "data.dropna(subset=['Class'], inplace = True)"
   ]
  },
  {
   "cell_type": "markdown",
   "metadata": {},
   "source": [
    "3 (2 Points)\\. Put all of the text into a data frame called `X` and the target variable in a data frame called `Y`. Make a train/test split where you give 75% of the data to training. Feel free to use any function from sklearn."
   ]
  },
  {
   "cell_type": "code",
   "execution_count": 4,
   "metadata": {},
   "outputs": [],
   "source": [
    "#Code here\n",
    "X = pd.DataFrame(data['Text'])\n",
    "Y = pd.DataFrame(data['Class'])\n",
    "\n",
    "train_data = data.sample(frac=0.75)\n",
    "test_data = data.loc[~data.index.isin(train_data.index)]"
   ]
  },
  {
   "cell_type": "markdown",
   "metadata": {},
   "source": [
    "4 (5 Points)\\. Create a binary `CountVectorizer()` and a binary `TfidfVectorizer()`. Use the original single words as well as bigrams (in the same model). Also, use an \"english\" stop word list. Fit these to the training data to extract a vocabulary and then transform both the train and test data. Hint - look at the API documentation for both vectorizers to see what we mean by \"binary.\""
   ]
  },
  {
   "cell_type": "code",
   "execution_count": 5,
   "metadata": {},
   "outputs": [],
   "source": [
    "from sklearn.feature_extraction.text import CountVectorizer\n",
    "from sklearn.feature_extraction.text import TfidfVectorizer\n",
    "                                    \n",
    "vectorizer = CountVectorizer(binary=True, ngram_range=(1, 2),stop_words='english')\n",
    "count_vectorizer_model = vectorizer.fit_transform(train_data['Text'].values)                                    \n",
    "cnt_vect_test = vectorizer.transform(test_data['Text'].values).toarray()\n",
    "\n",
    "tfid_vectorizer = TfidfVectorizer(binary=True, ngram_range=(1, 2),stop_words='english')\n",
    "tfid_vectorizer_model = tfid_vectorizer.fit_transform(train_data['Text'].values)\n",
    "tfid_vect_train = tfid_vectorizer.transform(train_data['Text'].values)\n",
    "tfid_vect_test = tfid_vectorizer.transform(test_data['Text'].values)"
   ]
  },
  {
   "cell_type": "markdown",
   "metadata": {},
   "source": [
    "5 (6 Points)\\. Create `LogisticRegression()` and `BernoulliNB()` models. For all settings, keep the default values. In a single plot, show the AUC curve for both classifiers and both vectorizers defined above. In the legend, include the area under the ROC curve (AUC). Do not forget to label your axes. Your final plot will be a single window with 4 curves.\n",
    "\n",
    "Which model do you think does a better job? Why? Explain in no more than a paragraph.\n",
    "\n",
    "Extra credit (2 points): Do any of the options perform identically? If so, can you explain why?"
   ]
  },
  {
   "cell_type": "code",
   "execution_count": 6,
   "metadata": {},
   "outputs": [],
   "source": [
    "# Run this so your plots show properly\n",
    "import matplotlib.pyplot as plt\n",
    "%matplotlib inline\n",
    "plt.rcParams['figure.figsize'] = 12, 12"
   ]
  },
  {
   "cell_type": "code",
   "execution_count": 7,
   "metadata": {},
   "outputs": [
    {
     "data": {
      "text/plain": [
       "0.9406825458417716"
      ]
     },
     "execution_count": 7,
     "metadata": {},
     "output_type": "execute_result"
    },
    {
     "data": {
      "image/png": "[encoded data removed]",
      "text/plain": [
       "<Figure size 432x288 with 1 Axes>"
      ]
     },
     "metadata": {},
     "output_type": "display_data"
    }
   ],
   "source": [
    "from sklearn.linear_model import LogisticRegression\n",
    "from sklearn.naive_bayes import BernoulliNB\n",
    "from sklearn import metrics\n",
    "import numpy as np\n",
    "from sklearn.metrics import roc_curve, auc\n",
    "\n",
    "# Code here\n",
    "\n",
    "def BernoulliModel(X,x_test):\n",
    "    Ber = BernoulliNB()\n",
    "    target = np.array(train_data['Class'].values)\n",
    "    target = target.astype('int')\n",
    "    Ber.fit(X=X,y=target)\n",
    "    return Ber.predict_proba(x_test)[:,1]\n",
    "\n",
    "def LogisticRegressionModel(X,x_test): \n",
    "    LogR= LogisticRegression()\n",
    "    target = np.array(train_data['Class'].values)\n",
    "    target = target.astype('int')\n",
    "    LogR.fit(X=X,y=target)\n",
    "    return LogR.predict_proba(x_test)[:,1]\n",
    "\n",
    "def plotUnivariateROC(preds, truth, label_string):\n",
    "\n",
    "    #1. call the roc_curve function to get the ROC X and Y values\n",
    "    fpr, tpr, thresholds = roc_curve(truth, preds)\n",
    "    #2. Input fpr and tpr into the auc function to get the AUC\n",
    "    roc_auc = auc(fpr, tpr)\n",
    "    \n",
    "    # #chooses a random color for plotting\n",
    "    c = (np.random.rand(), np.random.rand(), np.random.rand())\n",
    "    \n",
    "    #plt.figure(figsize=(20,5))\n",
    "\n",
    "    #create a plot and set some options\n",
    "    plt.plot(fpr, tpr, color = c, label = label_string + ' (AUC = %0.3f)' % roc_auc)\n",
    "\n",
    "    plt.plot([0, 1], [0, 1], 'k--')\n",
    "    plt.xlim([0.0, 1.0])\n",
    "    plt.ylim([0.0, 1.0])\n",
    "    plt.xlabel('FPR')\n",
    "    plt.ylabel('TPR')\n",
    "    plt.title('ROC')\n",
    "    plt.legend(loc=\"lower right\")\n",
    "    \n",
    "    return roc_auc\n",
    "\n",
    "ber_pred = BernoulliModel(count_vectorizer_model,cnt_vect_test)\n",
    "ber_pred_tfid = BernoulliModel(tfid_vectorizer_model,tfid_vect_test)\n",
    "lr_pred = LogisticRegressionModel(count_vectorizer_model,cnt_vect_test)\n",
    "lr_pred_tfid = LogisticRegressionModel(tfid_vectorizer_model,tfid_vect_test)\n",
    "target = np.array(test_data['Class'].values)\n",
    "target = target.astype('int')\n",
    "plotUnivariateROC(ber_pred, target, 'Bernoulli Vectorizer')\n",
    "plotUnivariateROC(ber_pred_tfid,target,'Bernoulli TFID Vectorizer')\n",
    "plotUnivariateROC(lr_pred,target,'Logistic Regression Vectorizer')\n",
    "plotUnivariateROC(lr_pred_tfid,target,'Logistic Regression TFID Vectorizer')"
   ]
  },
  {
   "cell_type": "markdown",
   "metadata": {},
   "source": [
    "Explanation here!\n",
    "Logistic Regression TFID Vectorizer model did the best at predicting the rating of the test data. This model may have performed the best because the tfid vectorizer add different weights to the features."
   ]
  },
  {
   "cell_type": "markdown",
   "metadata": {
    "collapsed": true
   },
   "source": [
    "5\\. Use the model from question 4 that you think did the best job and predict the rating of the test data. Find 5 examples were labeled positive, but were incorrectly classified as negative. Print out the reviews below and include an explanation as to why you think it may have been incorrectly classified. You can pick any 5. They do not have to be at random."
   ]
  },
  {
   "cell_type": "code",
   "execution_count": 31,
   "metadata": {},
   "outputs": [
    {
     "name": "stderr",
     "output_type": "stream",
     "text": [
      "/anaconda3/lib/python3.6/site-packages/ipykernel_launcher.py:8: SettingWithCopyWarning: \n",
      "A value is trying to be set on a copy of a slice from a DataFrame.\n",
      "Try using .loc[row_indexer,col_indexer] = value instead\n",
      "\n",
      "See the caveats in the documentation: http://pandas.pydata.org/pandas-docs/stable/indexing.html#indexing-view-versus-copy\n",
      "  \n"
     ]
    },
    {
     "data": {
      "text/html": [
       "<div>\n",
       "<style scoped>\n",
       "    .dataframe tbody tr th:only-of-type {\n",
       "        vertical-align: middle;\n",
       "    }\n",
       "\n",
       "    .dataframe tbody tr th {\n",
       "        vertical-align: top;\n",
       "    }\n",
       "\n",
       "    .dataframe thead th {\n",
       "        text-align: right;\n",
       "    }\n",
       "</style>\n",
       "<table border=\"1\" class=\"dataframe\">\n",
       "  <thead>\n",
       "    <tr style=\"text-align: right;\">\n",
       "      <th></th>\n",
       "      <th>Text</th>\n",
       "      <th>Class</th>\n",
       "      <th>Prediction</th>\n",
       "    </tr>\n",
       "  </thead>\n",
       "  <tbody>\n",
       "    <tr>\n",
       "      <th>770</th>\n",
       "      <td>'Go Igor go you are the proof that Slovenian films may should and must be different. Theres soul in it and this is rare. Dont let anybody put you down!'</td>\n",
       "      <td>1</td>\n",
       "      <td>0</td>\n",
       "    </tr>\n",
       "    <tr>\n",
       "      <th>4510</th>\n",
       "      <td>'If you like original gut wrenching laughter you will like this movie. If you are young or old then you will love this movie hell even my mom liked it. Great Camp!!!'</td>\n",
       "      <td>1</td>\n",
       "      <td>0</td>\n",
       "    </tr>\n",
       "    <tr>\n",
       "      <th>5072</th>\n",
       "      <td>'I was overtaken by the emotion. Unforgettable rendering of a wartime story which is unknown to most people. The performances were faultless and outstanding.'</td>\n",
       "      <td>1</td>\n",
       "      <td>0</td>\n",
       "    </tr>\n",
       "    <tr>\n",
       "      <th>5853</th>\n",
       "      <td>'I think its one of the greatest movies which are ever made and Ive seen many... The book is better but its still a very good movie!'</td>\n",
       "      <td>1</td>\n",
       "      <td>0</td>\n",
       "    </tr>\n",
       "    <tr>\n",
       "      <th>7058</th>\n",
       "      <td>'Great movie - especially the music - Etta James - At Last. This speaks volumes when you have finally found that special someone.'</td>\n",
       "      <td>0</td>\n",
       "      <td>1</td>\n",
       "    </tr>\n",
       "  </tbody>\n",
       "</table>\n",
       "</div>"
      ],
      "text/plain": [
       "                                                                                                                                                                        Text  \\\n",
       "770   'Go Igor go you are the proof that Slovenian films may should and must be different. Theres soul in it and this is rare. Dont let anybody put you down!'                 \n",
       "4510  'If you like original gut wrenching laughter you will like this movie. If you are young or old then you will love this movie hell even my mom liked it. Great Camp!!!'   \n",
       "5072  'I was overtaken by the emotion. Unforgettable rendering of a wartime story which is unknown to most people. The performances were faultless and outstanding.'           \n",
       "5853  'I think its one of the greatest movies which are ever made and Ive seen many... The book is better but its still a very good movie!'                                    \n",
       "7058  'Great movie - especially the music - Etta James - At Last. This speaks volumes when you have finally found that special someone.'                                       \n",
       "\n",
       "     Class  Prediction  \n",
       "770   1     0           \n",
       "4510  1     0           \n",
       "5072  1     0           \n",
       "5853  1     0           \n",
       "7058  0     1           "
      ]
     },
     "execution_count": 31,
     "metadata": {},
     "output_type": "execute_result"
    }
   ],
   "source": [
    "# Code here to display 5 incorrect reviews.\n",
    "\n",
    "LogR= LogisticRegression()\n",
    "target = np.array(train_data['Class'].values)\n",
    "target = target.astype('int')\n",
    "LogR.fit(X=tfid_vectorizer_model,y=target)\n",
    "Prediction = LogR.predict(tfid_vect_test)\n",
    "test_data['Prediction'] = Prediction\n",
    "Incorrect_Predictions = test_data.loc[test_data['Prediction'] != test_data['Class']]\n",
    "five_wrong = Incorrect_Predictions.loc[(Incorrect_Predictions.Text.str.len()) < 170]\n",
    "# five_wrong\n",
    "# five_wrong['Text'].values\n",
    "pd.set_option('display.max_colwidth', -1)\n",
    "five_wrong"
   ]
  },
  {
   "cell_type": "markdown",
   "metadata": {},
   "source": [
    "Explanation for the 5 reviews chosen here!\n",
    "\n",
    "Logistic Regression Vectorizer mdoel did the best at predicting the rating of the test data.\n",
    "1. For record 770, my model may have falsely predicted a negative sentiment because there does not appear to be any words that could have been associated with  a positive review when the model was being trained. However, the term \"down\" could have been why it was predicted as negative.\n",
    "2. For record 4510, there seems to be a number of words that could've been assoicated with a positive review such as, \"liked\", \"great\", and \"laughter\" , but perhaps the term \"hell\" could have been associated with a negative sentiment and had a greater weight. Also, the bigram \"If you\" could've been associated with a lot of negative reviews that contained sarcasm which also could've had a greater weight\n",
    "3. For Record, 5072 could've been associated with a negative review for similar reasons to record 4510. Perhaps terms like \"unknown\" and \"overtaken\" coul've been associated with negative reviews and had less weight as potential positive terms such as \"outstanding\" could've been less common.\n",
    "4. For record  5853, perhaps the term \"book\" could have been associated with negative reviews and had greater weight than \"greatest\" which could have been a positive association. The reason being because perhaps in most reviews where the \"book\" is mentioned, the review is saying that the movie does not live up to expectations and is a negative review.\n",
    "5. For record 7058, the prediction could have been wrong, because there was a mistake in the dataset for this record. In this case, I actually agree with the model that this review is a positive sentiment, however, the dataset has it marked as negative."
   ]
  },
  {
   "cell_type": "code",
   "execution_count": null,
   "metadata": {},
   "outputs": [],
   "source": []
  }
 ],
 "metadata": {
  "anaconda-cloud": {},
  "kernelspec": {
   "display_name": "Python 3",
   "language": "python",
   "name": "python3"
  },
  "language_info": {
   "codemirror_mode": {
    "name": "ipython",
    "version": 3
   },
   "file_extension": ".py",
   "mimetype": "text/x-python",
   "name": "python",
   "nbconvert_exporter": "python",
   "pygments_lexer": "ipython3",
   "version": "3.6.5"
  }
 },
 "nbformat": 4,
 "nbformat_minor": 1
}
